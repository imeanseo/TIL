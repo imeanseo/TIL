{
 "cells": [
  {
   "cell_type": "code",
   "execution_count": 9,
   "id": "0720dc88-58f1-4cb5-910d-9a850698478f",
   "metadata": {},
   "outputs": [],
   "source": [
    "import numpy as np\n",
    "import pandas as pd"
   ]
  },
  {
   "cell_type": "code",
   "execution_count": 10,
   "id": "de89e9e8-0fae-478f-9855-92f86737cc13",
   "metadata": {},
   "outputs": [],
   "source": [
    "test_df = pd.read_csv('test_for_eda.csv')"
   ]
  },
  {
   "cell_type": "code",
   "execution_count": 11,
   "id": "db62cd14-e6f1-4a59-ad2b-753f35d227ab",
   "metadata": {},
   "outputs": [],
   "source": [
    "# test data Nan 값 아파트명 채우기\n",
    "fill_values = {\n",
    "    2451: \"740-7\",\n",
    "    2452: \"743-28\",\n",
    "    2453: \"747-34\",\n",
    "    2454: \"752-17\",\n",
    "    2455: \"780-86\",\n",
    "    4035: \"INS새터아파트\",\n",
    "    4449: \"상진아파트\",\n",
    "    8041: \"유탑유블레스아파트\",\n",
    "    8042: \"유탑유블레스아파트\",\n",
    "    8966: \"432-904\",\n",
    "}\n",
    "\n",
    "for idx, value in fill_values.items():\n",
    "    test_df.loc[idx, \"아파트명\"] = value"
   ]
  },
  {
   "cell_type": "code",
   "execution_count": 12,
   "id": "ff0a38a3-fede-4abc-95da-1c9ed95c6300",
   "metadata": {},
   "outputs": [
    {
     "data": {
      "text/plain": [
       "'740-7'"
      ]
     },
     "execution_count": 12,
     "metadata": {},
     "output_type": "execute_result"
    }
   ],
   "source": [
    "test_df.loc[2451, '아파트명']"
   ]
  },
  {
   "cell_type": "code",
   "execution_count": 13,
   "id": "f7f250e7-2be7-4b42-be5b-0e0e898a66a7",
   "metadata": {},
   "outputs": [],
   "source": [
    "test_df.to_csv('test_for_eda(notnull).csv')"
   ]
  }
 ],
 "metadata": {
  "kernelspec": {
   "display_name": "Python 3 (ipykernel)",
   "language": "python",
   "name": "python3"
  },
  "language_info": {
   "codemirror_mode": {
    "name": "ipython",
    "version": 3
   },
   "file_extension": ".py",
   "mimetype": "text/x-python",
   "name": "python",
   "nbconvert_exporter": "python",
   "pygments_lexer": "ipython3",
   "version": "3.8.10"
  }
 },
 "nbformat": 4,
 "nbformat_minor": 5
}
