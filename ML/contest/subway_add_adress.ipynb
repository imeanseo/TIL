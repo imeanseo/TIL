{
 "cells": [
  {
   "cell_type": "code",
   "execution_count": null,
   "id": "id",
   "metadata": {},
   "outputs": [],
   "source": [
    "'''# !pip install geopy\n",
    "from geopy.geocoders import Nominatim\n",
    "from tqdm import tqdm  # 진행 상황 확인용 \n",
    "import time \n",
    "\n",
    "def geocoding(address):\n",
    "    try:\n",
    "        geolocator = Nominatim(user_agent='South Korea')  \n",
    "        location = geolocator.geocode(address)\n",
    "        if location:\n",
    "            return location.latitude, location.longitude\n",
    "        else:\n",
    "            return None, None  # 좌표를 찾지 못하면 None 반환\n",
    "    except:\n",
    "        return None, None\n",
    "time.sleep(1)'''"
   ]
  },
  {
   "cell_type": "code",
   "execution_count": null,
   "id": "id",
   "metadata": {},
   "outputs": [],
   "source": [
    "'''start = 2401\n",
    "end = 3401\n",
    "\n",
    "# 좌표 결측치인 행만 선택\n",
    "train_coordinate = train.loc[(train['좌표X'].isna()) | (train['좌표Y'].isna())].copy()\n",
    "train_coordinate = train_coordinate.reset_index(drop=True)\n",
    "train_coordinate = train_coordinate.iloc[start:end]'''"
   ]
  },
  {
   "cell_type": "code",
   "execution_count": null,
   "id": " ",
   "metadata": {},
   "outputs": [],
   "source": [
    "'''for idx, addr in enumerate(tqdm(train_coordinate[\"도로명\"])):\n",
    "    lat, lon = geocoding(addr)\n",
    "    train_coordinate.loc[idx, '좌표Y'] = lat\n",
    "    train_coordinate.loc[idx, '좌표X'] = lon\n",
    "name = 'imeanseo2401_3401'\n",
    "# 결과 저장\n",
    "train_coordinate.to_csv(f\"train_xy_{name}.csv\", index=False)\n",
    "\n",
    "train_coordinate.head()'''"
   ]
  },
  {
   "cell_type": "code",
   "execution_count": null,
   "id": "id",
   "metadata": {},
   "outputs": [],
   "source": [
    "'''train_coordinate.to_csv(f\"/root/data_EDA_imeanseo/train_xy_{name}.csv\", index=False)'''"
   ]
  },
  {
   "cell_type": "code",
   "execution_count": null,
   "id": " ",
   "metadata": {},
   "outputs": [],
   "source": [
    "'''\n",
    "import pandas as pd\n",
    "\n",
    "df = pd.read_csv(\"subway_feature.csv\")\n",
    "df.head()\n",
    "'''"
   ]
  },
  {
   "cell_type": "code",
   "execution_count": null,
   "id": " ",
   "metadata": {},
   "outputs": [],
   "source": [
    "'''df.head()\n",
    "df.to_csv(\"subway_feature_address.csv\", index=False)'''\n"
   ]
  },
  {
   "cell_type": "code",
   "execution_count": null,
   "id": " ",
   "metadata": {},
   "outputs": [],
   "source": [
    "# 실패\n",
    "'''import pandas as pd\n",
    "from geopy.geocoders import Nominatim\n",
    "import time\n",
    "\n",
    "# CSV 읽기\n",
    "df = pd.read_csv(\"subway_feature.csv\")\n",
    "\n",
    "# 테스트용: 앞에서 50개만 선택\n",
    "df_test = df.head(50).copy()\n",
    "\n",
    "# Geopy 역지오코딩 객체\n",
    "geolocator = Nominatim(user_agent='South Korea')\n",
    "\n",
    "def reverse_geocoding(lat, lon):\n",
    "    try:\n",
    "        location = geolocator.reverse((lat, lon), exactly_one=True)\n",
    "        if location:\n",
    "            return location.address\n",
    "        else:\n",
    "            return None\n",
    "    except:\n",
    "        return None\n",
    "\n",
    "# 도로명주소 컬럼에 적용\n",
    "df_test['도로명주소'] = df_test.progress_apply(\n",
    "    lambda row: reverse_geocoding(row['위도'], row['경도']),\n",
    "    axis=1\n",
    ")\n",
    "\n",
    "# 결과 확인\n",
    "print(df_test[['위도', '경도', '도로명주소']])'''"
   ]
  },
  {
   "cell_type": "code",
   "execution_count": null,
   "id": "id",
   "metadata": {},
   "outputs": [],
   "source": [
    "import pandas as pd\n",
    "\n",
    "subway = pd.read_csv(\"subway_feature.csv\")\n",
    "subway.head()"
   ]
  },
  {
   "cell_type": "code",
   "execution_count": null,
   "id": "id",
   "metadata": {},
   "outputs": [],
   "source": [
    "# import requests\n",
    "import pandas as pd\n",
    "\n",
    "url = \"https://maps.apigw.ntruss.com/map-reversegeocode/v2/gc\"\n",
    "\n",
    "raddr = []\n",
    "for x, y in zip(subway['경도'][:2], subway['위도'][:2]):\n",
    "    params = {\n",
    "        \"coords\": f\"{x},{y}\",  # 경도, 위도\n",
    "        \"output\": \"json\",\n",
    "        \"orders\": \"legalcode\"\n",
    "    }\n",
    "\n",
    "    headers = {\n",
    "        \"x-ncp-apigw-api-key-id\": id\" \",  # Client ID\n",
    "        \"x-ncp-apigw-api-key\": api key\" \"  # Client Secret\n",
    "    }\n",
    "\n",
    "    response = requests.get(url, headers=headers, params=params)\n",
    "    data = response.json()\n",
    "\n",
    "    # 결과 확인용 출력\n",
    "    print(data)"
   ]
  },
  {
   "cell_type": "code",
   "execution_count": null,
   "id": "id",
   "metadata": {},
   "outputs": [],
   "source": [
    "# 지하철 data 시군구 뽑기 성공\n",
    "\n",
    "# import requests\n",
    "import pandas as pd\n",
    "import time\n",
    "from tqdm import tqdm  \n",
    "\n",
    "# CSV 불러오기\n",
    "subway = pd.read_csv('subway_feature.csv')\n",
    "\n",
    "raddr = []  # 법정동 코드 담을 리스트\n",
    "\n",
    "url = \"https://maps.apigw.ntruss.com/map-reversegeocode/v2/gc\"\n",
    "\n",
    "for x, y in tqdm(zip(subway['경도'], subway['위도'])):\n",
    "    params = {\n",
    "        \"coords\": f\"{x},{y}\",  # 경도, 위도\n",
    "        \"output\": \"json\",\n",
    "        \"orders\": \"legalcode\"\n",
    "    }\n",
    "\n",
    "    headers = {\n",
    "        \"x-ncp-apigw-api-key-id\": \"id\",  # Client ID\n",
    "        \"x-ncp-apigw-api-key\": \"api key\"  # Client Secret\n",
    "    }\n",
    "\n",
    "    response = requests.get(url, headers=headers, params=params)\n",
    "    data = response.json()\n",
    "\n",
    "      # 지역 정보(area1, area2, area3) 추출\n",
    "    try:\n",
    "        area1 = data['results'][0]['region']['area1']['name']  # 시/도\n",
    "        area2 = data['results'][0]['region']['area2']['name']  # 구\n",
    "        area3 = data['results'][0]['region']['area3']['name']  # 동\n",
    "        full_address = f\"{area1} {area2} {area3}\"\n",
    "    except (KeyError, IndexError):\n",
    "        full_address = None\n",
    "\n",
    "    raddr.append(full_address)\n",
    "    \n",
    "    # API 과부하 방지\n",
    "    time.sleep(0.1)\n",
    "\n",
    "# 데이터프레임에 컬럼 추가\n",
    "subway['full_address'] = raddr\n",
    "\n",
    "# CSV로 저장\n",
    "subway.to_csv('subway_feature_raddr.csv', index=False, encoding='utf-8-sig')\n",
    "\n",
    "print(\"subway_feature_raddr.csv 저장 완료\")"
   ]
  }
 ],
 "metadata": {
  "kernelspec": {
   "display_name": "Python 3 (ipykernel)",
   "language": "python",
   "name": "python3"
  },
  "language_info": {
   "codemirror_mode": {
    "name": "ipython",
    "version": 3
   },
   "file_extension": ".py",
   "mimetype": "text/x-python",
   "name": "python",
   "nbconvert_exporter": "python",
   "pygments_lexer": "ipython3",
   "version": "3.8.10"
  }
 },
 "nbformat": 4,
 "nbformat_minor": 5
}
